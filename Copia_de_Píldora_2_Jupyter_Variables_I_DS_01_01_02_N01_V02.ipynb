{
  "cells": [
    {
      "cell_type": "markdown",
      "metadata": {
        "id": "view-in-github",
        "colab_type": "text"
      },
      "source": [
        "<a href=\"https://colab.research.google.com/github/casalsjaime/ONLINE_DS_THEBRIDGE_Repos/blob/main/Copia_de_P%C3%ADldora_2_Jupyter_Variables_I_DS_01_01_02_N01_V02.ipynb\" target=\"_parent\"><img src=\"https://colab.research.google.com/assets/colab-badge.svg\" alt=\"Open In Colab\"/></a>"
      ]
    },
    {
      "cell_type": "markdown",
      "metadata": {
        "id": "t9k24ilStE3l"
      },
      "source": [
        "<img src=\"./img/TheBridge_logo_RGB_color.jpg\" width = 250>\n",
        "<img src=\"./img/python.jpg\" width = 250>"
      ]
    },
    {
      "cell_type": "code",
      "source": [],
      "metadata": {
        "id": "VafL20i8wijL"
      },
      "execution_count": null,
      "outputs": []
    },
    {
      "cell_type": "markdown",
      "metadata": {
        "id": "3rV0f2u_tE3q"
      },
      "source": [
        "# Python Basics I: Variables\n",
        "\n",
        "\n",
        "Bienvenido a tu primer asalto con Python. Empezamos nuestra aventura declarando variables.\n",
        "\n",
        "Las variables son una manera de etiquetar y conservar los datos del programa para luego poder emplearlos en diferentes sitios."
      ]
    },
    {
      "cell_type": "markdown",
      "metadata": {
        "id": "MwBP-A48tE3r"
      },
      "source": [
        "## Contenidos"
      ]
    },
    {
      "cell_type": "markdown",
      "metadata": {
        "id": "YxEl7TqRtE3s"
      },
      "source": [
        "* [Variables numéricas\n",
        "](#Variables-numéricas\n",
        ")\n",
        "* [Cadenas de texto\n",
        "](#Cadenas-de-texto\n",
        ")\n",
        "* [Escribir mal el nombre\n",
        "](#Escribir-mal-el-nombre\n",
        ")\n",
        "* [Cerrar bien los strings\n",
        "](#Cerrar-bien-los-strings\n",
        ")\n",
        "* [Prohibido espacios en los nombres de las variables\n",
        "](#Prohibido-espacios-en-los-nombres-de-las-variables\n",
        ")\n",
        "* [Números en el nombre de la variable\n",
        "](#Números-en-el-nombre-de-la-variable\n",
        ")\n",
        "* [Sensible a mayusculas\n",
        "](#Sensible-a-mayusculas\n",
        ")\n",
        "* [Palabras reservadas\n",
        "](#Palabras-reservadas\n",
        ")\n",
        "* [Resumen variables\n",
        "](#Resumen-variables\n",
        ")\n"
      ]
    },
    {
      "cell_type": "code",
      "execution_count": null,
      "metadata": {
        "id": "MtQbDAoPtE3u",
        "outputId": "cb483060-9be7-42e4-a866-d14864d50240",
        "colab": {
          "base_uri": "https://localhost:8080/"
        }
      },
      "outputs": [
        {
          "output_type": "stream",
          "name": "stdout",
          "text": [
            "[0.96833255 0.80926148 0.1535656  0.75778289 0.58392447 0.38008516\n",
            " 0.35096544 0.94193185 0.25778673 0.20178307]\n"
          ]
        }
      ],
      "source": [
        "# prompt: 10 random numbers using numpy\n",
        "\n",
        "import numpy as np\n",
        "\n",
        "random_numbers = np.random.rand(10)\n",
        "print(random_numbers)\n"
      ]
    },
    {
      "cell_type": "markdown",
      "metadata": {
        "id": "cYafgflItE3t"
      },
      "source": [
        "### Variables numéricas\n",
        "[al indice](#Contenidos)\n",
        "\n"
      ]
    },
    {
      "cell_type": "markdown",
      "metadata": {
        "id": "hQhUdzk5tE3v"
      },
      "source": [
        "**Esto es una asignación**. A la palabra *ingresos*, le asignamos un valor mediante `=`.\n",
        "Si queremos ver el valor de la variable, simplemente escribimos su nombre en una celda."
      ]
    },
    {
      "cell_type": "code",
      "execution_count": 3,
      "metadata": {
        "id": "rfE5NpJGtE3w"
      },
      "outputs": [],
      "source": [
        "ingresos = 1000\n",
        "gastos = 400"
      ]
    },
    {
      "cell_type": "code",
      "execution_count": 4,
      "metadata": {
        "id": "NVNXRKbhtE3w",
        "colab": {
          "base_uri": "https://localhost:8080/"
        },
        "outputId": "eacebf64-cd21-4689-dc96-c5367c27cd32"
      },
      "outputs": [
        {
          "output_type": "execute_result",
          "data": {
            "text/plain": [
              "1000"
            ]
          },
          "metadata": {},
          "execution_count": 4
        }
      ],
      "source": [
        "ingresos"
      ]
    },
    {
      "cell_type": "code",
      "execution_count": 5,
      "metadata": {
        "id": "zw12hwr1tE3w",
        "colab": {
          "base_uri": "https://localhost:8080/"
        },
        "outputId": "39dd5779-81b1-425a-bbfb-e3ec31791eb8"
      },
      "outputs": [
        {
          "output_type": "execute_result",
          "data": {
            "text/plain": [
              "400"
            ]
          },
          "metadata": {},
          "execution_count": 5
        }
      ],
      "source": [
        "ingresos\n",
        "gastos"
      ]
    },
    {
      "cell_type": "code",
      "execution_count": 6,
      "metadata": {
        "id": "CwIqfVA7tE3x",
        "colab": {
          "base_uri": "https://localhost:8080/"
        },
        "outputId": "ba73460d-c4f7-4be3-c732-2f771e69edff"
      },
      "outputs": [
        {
          "output_type": "stream",
          "name": "stdout",
          "text": [
            "1000\n",
            "400\n"
          ]
        }
      ],
      "source": [
        "print(ingresos)\n",
        "print(gastos)"
      ]
    },
    {
      "cell_type": "code",
      "execution_count": 8,
      "metadata": {
        "id": "lA_ydwrdtE3x"
      },
      "outputs": [],
      "source": [
        "margen = ingresos - gastos"
      ]
    },
    {
      "cell_type": "code",
      "execution_count": 9,
      "metadata": {
        "id": "6AvotMWTtE3y",
        "colab": {
          "base_uri": "https://localhost:8080/"
        },
        "outputId": "2c4cb514-e64a-4916-a249-d84dcf5ff9b4"
      },
      "outputs": [
        {
          "output_type": "execute_result",
          "data": {
            "text/plain": [
              "600"
            ]
          },
          "metadata": {},
          "execution_count": 9
        }
      ],
      "source": [
        "margen"
      ]
    },
    {
      "cell_type": "code",
      "execution_count": 10,
      "metadata": {
        "id": "a_YQR4rFtE3z",
        "colab": {
          "base_uri": "https://localhost:8080/"
        },
        "outputId": "4008e330-6456-42e7-9403-ff04ad27ac37"
      },
      "outputs": [
        {
          "output_type": "stream",
          "name": "stdout",
          "text": [
            "600\n"
          ]
        }
      ],
      "source": [
        "print(margen)"
      ]
    },
    {
      "cell_type": "markdown",
      "metadata": {
        "id": "XPdHX1MdtE3y"
      },
      "source": [
        "### Cadenas de texto\n",
        "[al indice](#Contenidos)\n",
        "\n",
        "Las cadenas de texto se declaran con comillas simples o dobles"
      ]
    },
    {
      "cell_type": "code",
      "execution_count": 15,
      "metadata": {
        "id": "ZH8e1YQatE3z",
        "colab": {
          "base_uri": "https://localhost:8080/"
        },
        "outputId": "aae1c7cb-f677-4fae-8165-4015689e4ffb"
      },
      "outputs": [
        {
          "output_type": "stream",
          "name": "stdout",
          "text": [
            "Los ingresos han sido altos\n",
            "Los ingresos han sido altos\n"
          ]
        }
      ],
      "source": [
        "ingresos_text = \"Los ingresos han sido altos\"\n",
        "ingresos_alt = 'Los ingresos han sido altos'\n",
        "print(ingresos_text)\n",
        "print(ingresos_alt)"
      ]
    },
    {
      "cell_type": "code",
      "execution_count": 25,
      "metadata": {
        "id": "NP-5U4aLtE30"
      },
      "outputs": [],
      "source": [
        "ingresos_text = \"Los 'ingresos' han sido altos\""
      ]
    },
    {
      "cell_type": "code",
      "execution_count": 26,
      "metadata": {
        "id": "1pGee75-tE31",
        "colab": {
          "base_uri": "https://localhost:8080/",
          "height": 35
        },
        "outputId": "b79fb567-7c7e-4900-f87d-520553289189"
      },
      "outputs": [
        {
          "output_type": "execute_result",
          "data": {
            "text/plain": [
              "\"Los 'ingresos' han sido altos\""
            ],
            "application/vnd.google.colaboratory.intrinsic+json": {
              "type": "string"
            }
          },
          "metadata": {},
          "execution_count": 26
        }
      ],
      "source": [
        "ingresos_text"
      ]
    },
    {
      "cell_type": "code",
      "execution_count": 27,
      "metadata": {
        "id": "8MHi4eFetE31",
        "colab": {
          "base_uri": "https://localhost:8080/"
        },
        "outputId": "8db21447-0913-4319-8818-8a99fc067f18"
      },
      "outputs": [
        {
          "output_type": "stream",
          "name": "stdout",
          "text": [
            "Los 'ingresos' han sido altos\n"
          ]
        }
      ],
      "source": [
        "print(ingresos_text)"
      ]
    },
    {
      "cell_type": "code",
      "execution_count": 32,
      "metadata": {
        "id": "4ltH3iPUtE32"
      },
      "outputs": [],
      "source": [
        "ingresos_text = 'Los \"ingresos\" han sido altos'"
      ]
    },
    {
      "cell_type": "code",
      "execution_count": 33,
      "metadata": {
        "id": "4ZbzHTYwtE33",
        "colab": {
          "base_uri": "https://localhost:8080/",
          "height": 35
        },
        "outputId": "72e5ead1-f748-44b8-a875-cd6094914e5c"
      },
      "outputs": [
        {
          "output_type": "execute_result",
          "data": {
            "text/plain": [
              "'Los \"ingresos\" han sido altos'"
            ],
            "application/vnd.google.colaboratory.intrinsic+json": {
              "type": "string"
            }
          },
          "metadata": {},
          "execution_count": 33
        }
      ],
      "source": [
        "ingresos_text"
      ]
    },
    {
      "cell_type": "markdown",
      "metadata": {
        "id": "RMqQkmCjtE30"
      },
      "source": [
        "Python es un lenguaje dinámico por lo que siempre podremos actualizar los valores de las variables. **Se recomienda usar nombres descriptivos para declarar las variables, pero no excesivamente largos**. Así evitamos sobreescribirlas sin querer.\n",
        "\n",
        "Por otro lado, cuidado con los caracteres ele y uno (`l` vs `1`), así como con cero y o (`0` vs `O`). Se suelen confundir.\n",
        "\n",
        "fatal vs fata1\n",
        "\n",
        "clarO vs clar0\n",
        "\n",
        "Reasignamos valor a gastos"
      ]
    },
    {
      "cell_type": "code",
      "source": [
        "gastos = 100\n"
      ],
      "metadata": {
        "id": "kAkHYZXe2Ifa"
      },
      "execution_count": 41,
      "outputs": []
    },
    {
      "cell_type": "code",
      "source": [
        "print(gastos)"
      ],
      "metadata": {
        "colab": {
          "base_uri": "https://localhost:8080/"
        },
        "id": "86kIrg4H2rW8",
        "outputId": "60338f41-e1c1-4d4e-ba4a-0b8e32ece2cf"
      },
      "execution_count": 37,
      "outputs": [
        {
          "output_type": "stream",
          "name": "stdout",
          "text": [
            "200\n"
          ]
        }
      ]
    },
    {
      "cell_type": "code",
      "source": [
        "beneficios = ingresos - gastos"
      ],
      "metadata": {
        "id": "fll4J28L246b"
      },
      "execution_count": 42,
      "outputs": []
    },
    {
      "cell_type": "code",
      "source": [
        "beneficios"
      ],
      "metadata": {
        "colab": {
          "base_uri": "https://localhost:8080/"
        },
        "id": "_LZw5Z0T3CJa",
        "outputId": "df3c0194-1454-4962-fdc7-80879cbba276"
      },
      "execution_count": 43,
      "outputs": [
        {
          "output_type": "execute_result",
          "data": {
            "text/plain": [
              "900"
            ]
          },
          "metadata": {},
          "execution_count": 43
        }
      ]
    },
    {
      "cell_type": "markdown",
      "metadata": {
        "id": "xPVtK8jStE31"
      },
      "source": [
        "Ahora la variable gastos vale 200. Si la última línea de una celda es una variable, su valor será el *output* de la celda: 200.\n",
        "\n",
        "Vale, ¿y de qué nos sirve guardar variables?\n",
        "\n",
        "Podremos usar estos datos posteriormente, en otro lugar del programa. Por ejemplo, si ahora en una celda nueva queremos obtener el beneficio, simplemente restamos los nombres de las variables"
      ]
    },
    {
      "cell_type": "markdown",
      "metadata": {
        "id": "ZYUauRIatE33"
      },
      "source": [
        "### Escribir mal el nombre\n",
        "[al indice](#Contenidos)\n",
        "\n",
        "Un error típico cuando declaramos variables es **escribir su nombre mal, o llamar despues a la variable de forma errónea**. En tal caso, aparece un `NameError: name 'variable_que_no_existe' is not defined`"
      ]
    },
    {
      "cell_type": "markdown",
      "metadata": {
        "id": "r2kVKhEutE34"
      },
      "source": [
        "Fíjate que te indica la línea donde se produce el error, el tipo de error (`NameError`), y una breve descripción del error."
      ]
    },
    {
      "cell_type": "markdown",
      "metadata": {
        "id": "ZbioKWXatE35"
      },
      "source": [
        "### Cerrar bien los strings\n",
        "[al indice](#Contenidos)\n",
        "\n",
        "\n",
        "Cuidado tambien cuando definamos una cadena de texto, y se nos olvide cerrarla con sus correspondientes comillas. Nos dará un `SyntaxError: EOL while scanning string literal` (End Of Line)"
      ]
    },
    {
      "cell_type": "code",
      "execution_count": null,
      "metadata": {
        "id": "EiLxnbnttE35"
      },
      "outputs": [],
      "source": []
    },
    {
      "cell_type": "code",
      "execution_count": null,
      "metadata": {
        "id": "7dTv8vvqtE36"
      },
      "outputs": [],
      "source": []
    },
    {
      "cell_type": "markdown",
      "metadata": {
        "id": "9vdLLFPEtE37"
      },
      "source": [
        "### Prohibido espacios en los nombres de las variables\n",
        "[al indice](#Contenidos)\n",
        "\n",
        "\n",
        "También dará error si tenemos un espacio en la declaración de la variable. Se recomienda mínusculas y guiones bajos para simular los espacios.\n",
        "\n",
        "**Los espacios que encuentres alrededor del igual se pueden usar perfectamente**. Es pura estética a la hora de leer el código."
      ]
    },
    {
      "cell_type": "code",
      "execution_count": null,
      "metadata": {
        "id": "WPjckNTMtE38"
      },
      "outputs": [],
      "source": []
    },
    {
      "cell_type": "code",
      "execution_count": null,
      "metadata": {
        "id": "_T213ZjhtE38"
      },
      "outputs": [],
      "source": []
    },
    {
      "cell_type": "markdown",
      "metadata": {
        "id": "SQk2oMDztE38"
      },
      "source": [
        "### Números en el nombre de la variable\n",
        "[al indice](#Contenidos)\n",
        "\n",
        "Ojo con los números cuando declaremos variables. En ocasiones es determinante describir nuestra variable con algún número. En tal caso, ponlo siempre al final del nombre de la variable, ya que sino saltará un error."
      ]
    },
    {
      "cell_type": "code",
      "execution_count": null,
      "metadata": {
        "id": "I5UZ1sQWtE39"
      },
      "outputs": [],
      "source": []
    },
    {
      "cell_type": "code",
      "execution_count": null,
      "metadata": {
        "id": "FdEhMMn_tE39"
      },
      "outputs": [],
      "source": []
    },
    {
      "cell_type": "markdown",
      "metadata": {
        "id": "SFaxnvWctE39"
      },
      "source": [
        "### Sensible a mayusculas\n",
        "[al indice](#Contenidos)\n",
        "\n",
        "\n",
        "Mucho cuidado con las mayusculas y minusculas porque Python no las ignora. Si todas las letras de una variable están en mayusculas, tendremos que usarla en mayusculas, sino dará un error de que no encuentra la variable."
      ]
    },
    {
      "cell_type": "code",
      "execution_count": null,
      "metadata": {
        "id": "gJyO5-VStE3-"
      },
      "outputs": [],
      "source": []
    },
    {
      "cell_type": "code",
      "execution_count": null,
      "metadata": {
        "id": "MfCnT548tE3_"
      },
      "outputs": [],
      "source": []
    },
    {
      "cell_type": "markdown",
      "metadata": {
        "id": "dWZypPVKtE3_"
      },
      "source": [
        "### Palabras reservadas\n",
        "[al indice](#Contenidos)\n",
        "\n",
        "\n",
        "En Python, como en otros lenguajes, hay una serie de palabras reservadas que tienen un significado para el intérprete de Python y por lo tanto no podemos usar para ponerle nombre a nuestras variables.\n",
        "\n",
        "Por ejemplo, `def` se usa para definir funciones en Python (lo veremos en otros notebooks), por lo que no podemos emplear `def` para nombrar a nuestras variables"
      ]
    },
    {
      "cell_type": "code",
      "execution_count": null,
      "metadata": {
        "id": "oGXjiD6gtE4A"
      },
      "outputs": [],
      "source": []
    },
    {
      "cell_type": "markdown",
      "metadata": {
        "id": "qoGOB0y0tE4B"
      },
      "source": [
        "Consulta la lista de palabras reservadas de Python"
      ]
    },
    {
      "cell_type": "code",
      "execution_count": null,
      "metadata": {
        "id": "uOUoeAbvtE4B"
      },
      "outputs": [],
      "source": []
    },
    {
      "cell_type": "code",
      "execution_count": null,
      "metadata": {
        "id": "iwNSgwQxtE4C"
      },
      "outputs": [],
      "source": []
    },
    {
      "cell_type": "markdown",
      "metadata": {
        "id": "ruqMFYGotE4C"
      },
      "source": [
        "### Resumen variables\n",
        "[al indice](#Contenidos)\n",
        "\n",
        "\n",
        "En resumen:\n",
        "* Usar minusculas. Sensible a mayusculas/minusculas\n",
        "* No usar espacios\n",
        "* No usar palabras reservadas\n",
        "* No usar numeros al principio de la variable\n",
        "* Cuidado con los caracteres `l`, `1`, `O`, `0`"
      ]
    },
    {
      "cell_type": "code",
      "execution_count": null,
      "metadata": {
        "id": "Zl6zXwnCtE4D"
      },
      "outputs": [],
      "source": []
    },
    {
      "cell_type": "code",
      "execution_count": null,
      "metadata": {
        "id": "niJSVJ_qtE4D"
      },
      "outputs": [],
      "source": []
    },
    {
      "cell_type": "code",
      "execution_count": null,
      "metadata": {
        "id": "PCoKUu9btE4E"
      },
      "outputs": [],
      "source": []
    }
  ],
  "nbformat": 4,
  "nbformat_minor": 0,
  "metadata": {
    "kernelspec": {
      "display_name": "Python 3 (ipykernel)",
      "language": "python",
      "name": "python3"
    },
    "language_info": {
      "codemirror_mode": {
        "name": "ipython",
        "version": 3
      },
      "file_extension": ".py",
      "mimetype": "text/x-python",
      "name": "python",
      "nbconvert_exporter": "python",
      "pygments_lexer": "ipython3",
      "version": "3.11.5"
    },
    "nbTranslate": {
      "displayLangs": [
        "*"
      ],
      "hotkey": "alt-t",
      "langInMainMenu": true,
      "sourceLang": "en",
      "targetLang": "fr",
      "useGoogleTranslate": true
    },
    "varInspector": {
      "cols": {
        "lenName": 16,
        "lenType": 16,
        "lenVar": 40
      },
      "kernels_config": {
        "python": {
          "delete_cmd_postfix": "",
          "delete_cmd_prefix": "del ",
          "library": "var_list.py",
          "varRefreshCmd": "print(var_dic_list())"
        },
        "r": {
          "delete_cmd_postfix": ") ",
          "delete_cmd_prefix": "rm(",
          "library": "var_list.r",
          "varRefreshCmd": "cat(var_dic_list()) "
        }
      },
      "types_to_exclude": [
        "module",
        "function",
        "builtin_function_or_method",
        "instance",
        "_Feature"
      ],
      "window_display": false
    },
    "colab": {
      "provenance": [],
      "include_colab_link": true
    }
  }
}